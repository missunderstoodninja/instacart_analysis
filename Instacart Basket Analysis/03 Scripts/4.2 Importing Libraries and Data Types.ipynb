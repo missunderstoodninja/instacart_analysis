{
 "cells": [
  {
   "cell_type": "markdown",
   "id": "0bf0e2cf",
   "metadata": {},
   "source": [
    "# 01. Importing Libraries"
   ]
  },
  {
   "cell_type": "code",
   "execution_count": 4,
   "id": "17b6b1a7",
   "metadata": {},
   "outputs": [],
   "source": [
    "# import libraries\n",
    "import pandas as pd\n",
    "import numpy as np\n",
    "import os"
   ]
  },
  {
   "cell_type": "code",
   "execution_count": null,
   "id": "dd8e6096",
   "metadata": {},
   "outputs": [],
   "source": []
  },
  {
   "cell_type": "markdown",
   "id": "ece69acd",
   "metadata": {},
   "source": [
    "# 02. Data Types"
   ]
  },
  {
   "cell_type": "code",
   "execution_count": 5,
   "id": "41b2c3f5",
   "metadata": {},
   "outputs": [],
   "source": [
    "x = 20\n",
    "y = 60\n",
    "z = 1.5"
   ]
  },
  {
   "cell_type": "code",
   "execution_count": 6,
   "id": "4706c715",
   "metadata": {},
   "outputs": [
    {
     "data": {
      "text/plain": [
       "100"
      ]
     },
     "execution_count": 6,
     "metadata": {},
     "output_type": "execute_result"
    }
   ],
   "source": [
    "2 * x + y"
   ]
  },
  {
   "cell_type": "code",
   "execution_count": 7,
   "id": "467e99fe",
   "metadata": {},
   "outputs": [
    {
     "data": {
      "text/plain": [
       "100.0"
      ]
     },
     "execution_count": 7,
     "metadata": {},
     "output_type": "execute_result"
    }
   ],
   "source": [
    "y * z + 10"
   ]
  },
  {
   "cell_type": "code",
   "execution_count": 8,
   "id": "f9264fdd",
   "metadata": {},
   "outputs": [
    {
     "data": {
      "text/plain": [
       "100"
      ]
     },
     "execution_count": 8,
     "metadata": {},
     "output_type": "execute_result"
    }
   ],
   "source": [
    "y + y - x"
   ]
  },
  {
   "cell_type": "code",
   "execution_count": 9,
   "id": "e3484f5f",
   "metadata": {},
   "outputs": [],
   "source": [
    "a = 7.562\n",
    "b = 14.5"
   ]
  },
  {
   "cell_type": "code",
   "execution_count": 10,
   "id": "f3142335",
   "metadata": {},
   "outputs": [
    {
     "data": {
      "text/plain": [
       "1.9174821475800052"
      ]
     },
     "execution_count": 10,
     "metadata": {},
     "output_type": "execute_result"
    }
   ],
   "source": [
    "b / a"
   ]
  },
  {
   "cell_type": "code",
   "execution_count": 11,
   "id": "a229a62c",
   "metadata": {},
   "outputs": [],
   "source": [
    "c = 'Streich'\n",
    "d = 'holz'\n",
    "e = 'schächtel'\n",
    "f = 'chen'"
   ]
  },
  {
   "cell_type": "code",
   "execution_count": 12,
   "id": "20b20f13",
   "metadata": {},
   "outputs": [
    {
     "name": "stdout",
     "output_type": "stream",
     "text": [
      "Streichholzschächtelchen\n"
     ]
    }
   ],
   "source": [
    "print(c+d+e+f)"
   ]
  },
  {
   "cell_type": "code",
   "execution_count": 13,
   "id": "4ef2936a",
   "metadata": {},
   "outputs": [],
   "source": [
    "g = 'Sphinx of black '\n",
    "h = 'quartz judge my vow.'"
   ]
  },
  {
   "cell_type": "code",
   "execution_count": 14,
   "id": "2ceb8ef7",
   "metadata": {},
   "outputs": [
    {
     "name": "stdout",
     "output_type": "stream",
     "text": [
      "Sphinx of black quartz judge my vow.\n"
     ]
    }
   ],
   "source": [
    "print(g + h)"
   ]
  },
  {
   "cell_type": "code",
   "execution_count": 15,
   "id": "371dff7a",
   "metadata": {},
   "outputs": [],
   "source": [
    "i = 'The quick brown fox '\n",
    "j = 'jumps over the lazy dog.'"
   ]
  },
  {
   "cell_type": "code",
   "execution_count": 16,
   "id": "84b6f778",
   "metadata": {},
   "outputs": [
    {
     "name": "stdout",
     "output_type": "stream",
     "text": [
      "The quick brown fox jumps over the lazy dog.\n"
     ]
    }
   ],
   "source": [
    "print(i + j)"
   ]
  },
  {
   "cell_type": "code",
   "execution_count": 17,
   "id": "c696c325",
   "metadata": {},
   "outputs": [
    {
     "name": "stdout",
     "output_type": "stream",
     "text": [
      "StreichStreichStreichStreichStreichStreichStreichStreichStreichStreichStreichStreichStreichStreichStreichStreichStreichStreichStreichStreichStreichStreichStreichStreichStreichStreichStreichStreichStreichStreichStreichStreichStreichStreichStreichStreichStreichStreichStreichStreichStreichStreichStreichStreichStreichStreichStreichStreichStreichStreichStreichStreichStreichStreichStreichStreichStreichStreichStreichStreichStreichStreichStreichStreichStreichStreichStreichStreichStreichStreichStreichStreichStreichStreichStreichStreichStreichStreichStreichStreichStreichStreichStreichStreichStreichStreichStreichStreichStreichStreichStreichStreichStreichStreichStreichStreichStreichStreichStreichStreich\n"
     ]
    }
   ],
   "source": [
    "print(c * 100)"
   ]
  },
  {
   "cell_type": "code",
   "execution_count": 18,
   "id": "87e8db6e",
   "metadata": {},
   "outputs": [
    {
     "name": "stdout",
     "output_type": "stream",
     "text": [
      "quartz judge my vow.\n",
      "quartz judge my vow.\n",
      "quartz judge my vow.\n",
      "quartz judge my vow.\n",
      "quartz judge my vow.\n",
      "quartz judge my vow.\n",
      "quartz judge my vow.\n",
      "quartz judge my vow.\n",
      "quartz judge my vow.\n",
      "quartz judge my vow.\n",
      "quartz judge my vow.\n",
      "quartz judge my vow.\n",
      "quartz judge my vow.\n",
      "quartz judge my vow.\n",
      "quartz judge my vow.\n",
      "quartz judge my vow.\n",
      "quartz judge my vow.\n",
      "quartz judge my vow.\n",
      "quartz judge my vow.\n",
      "quartz judge my vow.\n",
      "quartz judge my vow.\n",
      "quartz judge my vow.\n",
      "quartz judge my vow.\n",
      "quartz judge my vow.\n",
      "quartz judge my vow.\n",
      "quartz judge my vow.\n",
      "quartz judge my vow.\n",
      "quartz judge my vow.\n",
      "quartz judge my vow.\n",
      "quartz judge my vow.\n",
      "quartz judge my vow.\n",
      "quartz judge my vow.\n",
      "quartz judge my vow.\n",
      "quartz judge my vow.\n",
      "quartz judge my vow.\n",
      "quartz judge my vow.\n",
      "quartz judge my vow.\n",
      "quartz judge my vow.\n",
      "quartz judge my vow.\n",
      "quartz judge my vow.\n",
      "quartz judge my vow.\n",
      "quartz judge my vow.\n",
      "quartz judge my vow.\n",
      "quartz judge my vow.\n",
      "quartz judge my vow.\n",
      "quartz judge my vow.\n",
      "quartz judge my vow.\n",
      "quartz judge my vow.\n",
      "quartz judge my vow.\n",
      "quartz judge my vow.\n",
      "quartz judge my vow.\n",
      "quartz judge my vow.\n",
      "quartz judge my vow.\n",
      "quartz judge my vow.\n",
      "quartz judge my vow.\n",
      "quartz judge my vow.\n",
      "quartz judge my vow.\n",
      "quartz judge my vow.\n",
      "quartz judge my vow.\n",
      "quartz judge my vow.\n",
      "quartz judge my vow.\n",
      "quartz judge my vow.\n",
      "quartz judge my vow.\n",
      "quartz judge my vow.\n",
      "quartz judge my vow.\n",
      "quartz judge my vow.\n",
      "quartz judge my vow.\n",
      "quartz judge my vow.\n",
      "quartz judge my vow.\n",
      "quartz judge my vow.\n",
      "quartz judge my vow.\n",
      "quartz judge my vow.\n",
      "quartz judge my vow.\n",
      "quartz judge my vow.\n",
      "quartz judge my vow.\n",
      "quartz judge my vow.\n",
      "quartz judge my vow.\n",
      "quartz judge my vow.\n",
      "quartz judge my vow.\n",
      "quartz judge my vow.\n",
      "quartz judge my vow.\n",
      "quartz judge my vow.\n",
      "quartz judge my vow.\n",
      "quartz judge my vow.\n",
      "quartz judge my vow.\n",
      "quartz judge my vow.\n",
      "quartz judge my vow.\n",
      "quartz judge my vow.\n",
      "quartz judge my vow.\n",
      "quartz judge my vow.\n",
      "quartz judge my vow.\n",
      "quartz judge my vow.\n",
      "quartz judge my vow.\n",
      "quartz judge my vow.\n",
      "quartz judge my vow.\n",
      "quartz judge my vow.\n",
      "quartz judge my vow.\n",
      "quartz judge my vow.\n",
      "quartz judge my vow.\n"
     ]
    }
   ],
   "source": [
    "for i in range(1, 100):\n",
    "    print(h)"
   ]
  }
 ],
 "metadata": {
  "kernelspec": {
   "display_name": "Python 3 (ipykernel)",
   "language": "python",
   "name": "python3"
  },
  "language_info": {
   "codemirror_mode": {
    "name": "ipython",
    "version": 3
   },
   "file_extension": ".py",
   "mimetype": "text/x-python",
   "name": "python",
   "nbconvert_exporter": "python",
   "pygments_lexer": "ipython3",
   "version": "3.9.16"
  }
 },
 "nbformat": 4,
 "nbformat_minor": 5
}
